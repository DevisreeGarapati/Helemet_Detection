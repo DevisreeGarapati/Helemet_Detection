{
 "cells": [
  {
   "cell_type": "code",
   "execution_count": 6,
   "id": "1b4dcd55",
   "metadata": {},
   "outputs": [
    {
     "name": "stdout",
     "output_type": "stream",
     "text": [
      "Requirement already satisfied: opencv-python in c:\\users\\devis\\anaconda3\\lib\\site-packages (4.10.0.84)\n",
      "Requirement already satisfied: numpy in c:\\users\\devis\\anaconda3\\lib\\site-packages (1.21.5)\n"
     ]
    }
   ],
   "source": [
    "!pip install opencv-python numpy"
   ]
  },
  {
   "cell_type": "code",
   "execution_count": 7,
   "id": "2981eaf4",
   "metadata": {},
   "outputs": [],
   "source": [
    "import cv2\n",
    "import numpy as np\n",
    "\n",
    "# Load YOLOv3 model\n",
    "def load_yolo_model(weights_path, cfg_path):\n",
    "    net = cv2.dnn.readNet(weights_path, cfg_path)\n",
    "    layer_names = net.getUnconnectedOutLayersNames()\n",
    "    return net, layer_names\n",
    "\n",
    "# Perform helmet detection\n",
    "def detect_helmet(image, net, layer_names):\n",
    "    height, width = image.shape[:2]\n",
    "\n",
    "    # Prepare the image for YOLO model\n",
    "    blob = cv2.dnn.blobFromImage(image, scalefactor=1/255.0, size=(416, 416), swapRB=True, crop=False)\n",
    "    net.setInput(blob)\n",
    "    detections = net.forward(layer_names)\n",
    "\n",
    "    helmets = []\n",
    "    for detection in detections:\n",
    "        for obj in detection:\n",
    "            scores = obj[5:]\n",
    "            class_id = np.argmax(scores)\n",
    "            confidence = scores[class_id]\n",
    "\n",
    "            if confidence > 0.5 and class_id == 0:  # Assuming class 0 is helmet\n",
    "                center_x = int(obj[0] * width)\n",
    "                center_y = int(obj[1] * height)\n",
    "                w = int(obj[2] * width)\n",
    "                h = int(obj[3] * height)\n",
    "\n",
    "                # Get the coordinates for drawing the bounding box\n",
    "                x = int(center_x - w / 2)\n",
    "                y = int(center_y - h / 2)\n",
    "\n",
    "                helmets.append((x, y, w, h))\n",
    "\n",
    "    return helmets\n",
    "\n",
    "# Load YOLOv3 model\n",
    "weights_path = \"C:/Users/devis/detectionfiles/yolov3-helmet.weights\"\n",
    "cfg_path = \"C:/Users/devis/detectionfiles/yolov3-helmet.cfg\"\n",
    "net, layer_names = load_yolo_model(weights_path, cfg_path)\n",
    "\n",
    "# Load the image\n",
    "image_path = \"C:/Users/devis/detectionfiles/images/img2.jpg\"\n",
    "image = cv2.imread(image_path)\n",
    "\n",
    "# Perform helmet detection\n",
    "helmets = detect_helmet(image, net, layer_names)\n",
    "\n",
    "# Draw bounding boxes around helmets\n",
    "for x, y, w, h in helmets:\n",
    "    cv2.rectangle(image, (x, y), (x + w, y + h), (0, 255, 0), 2)\n",
    "\n",
    "# Display the result\n",
    "cv2.imshow('Helmet Detection', image)\n",
    "cv2.waitKey(0)\n",
    "cv2.destroyAllWindows()\n"
   ]
  },
  {
   "cell_type": "code",
   "execution_count": null,
   "id": "b682a308",
   "metadata": {},
   "outputs": [],
   "source": []
  },
  {
   "cell_type": "code",
   "execution_count": null,
   "id": "394037fa",
   "metadata": {},
   "outputs": [],
   "source": []
  }
 ],
 "metadata": {
  "kernelspec": {
   "display_name": "Python 3 (ipykernel)",
   "language": "python",
   "name": "python3"
  },
  "language_info": {
   "codemirror_mode": {
    "name": "ipython",
    "version": 3
   },
   "file_extension": ".py",
   "mimetype": "text/x-python",
   "name": "python",
   "nbconvert_exporter": "python",
   "pygments_lexer": "ipython3",
   "version": "3.9.12"
  }
 },
 "nbformat": 4,
 "nbformat_minor": 5
}
